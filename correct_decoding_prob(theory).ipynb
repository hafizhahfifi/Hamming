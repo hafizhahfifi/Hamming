{
 "cells": [
  {
   "cell_type": "code",
   "execution_count": 1,
   "metadata": {},
   "outputs": [
    {
     "name": "stdout",
     "output_type": "stream",
     "text": [
      "[0.932065347906990, 0.0659036104580700]\n",
      "p = 0.01\n",
      "Probability of correct decoding : 0.997969\n",
      "\n",
      "[0.698337296093750, 0.257282161718750]\n",
      "p = 0.05\n",
      "Probability of correct decoding : 0.955619\n",
      "\n",
      "[0.601700870607570, 0.317025189890010]\n",
      "p = 0.07\n",
      "Probability of correct decoding : 0.918726\n",
      "\n",
      "[0.478296900000000, 0.372008700000000]\n",
      "p = 0.1\n",
      "Probability of correct decoding : 0.850306\n",
      "\n",
      "[0.209715200000000, 0.367001600000000]\n",
      "p = 0.2\n",
      "Probability of correct decoding : 0.576717\n",
      "\n",
      "[0.00781250000000000, 0.0546875000000000]\n",
      "p = 0.5\n",
      "Probability of correct decoding : 0.0625\n",
      "\n"
     ]
    }
   ],
   "source": [
    "n = 7  # Total number of bits\n",
    "k = 4  # Number of message bits\n",
    "t = 1  # Maximum number of errors that can be corrected\n",
    "p_values = [0.01, 0.05, 0.07, 0.1, 0.2, 0.5]  # Crossover probability values to test\n",
    "\n",
    "# Compute the probability of correct decoding for each value of p\n",
    "for p in p_values:\n",
    "    # Compute the probability of correct decoding \n",
    "    prob_cd_t = sum(binomial(n, w) * p^w * (1-p)^(n-w) for w in range(t+1))\n",
    "    print(list(binomial(n, w) * p^w * (1-p)^(n-w) for w in range(t+1)))\n",
    "        \n",
    "    # Print the results\n",
    "    print(\"p =\", round(p, 3))\n",
    "    print(\"Probability of correct decoding :\", round(prob_cd_t, 6))\n",
    "    print()"
   ]
  },
  {
   "cell_type": "code",
   "execution_count": null,
   "metadata": {},
   "outputs": [],
   "source": []
  }
 ],
 "metadata": {
  "kernelspec": {
   "display_name": "SageMath 9.3",
   "language": "sage",
   "name": "sagemath"
  },
  "language_info": {
   "codemirror_mode": {
    "name": "ipython",
    "version": 3
   },
   "file_extension": ".py",
   "mimetype": "text/x-python",
   "name": "python",
   "nbconvert_exporter": "python",
   "pygments_lexer": "ipython3",
   "version": "3.7.10"
  }
 },
 "nbformat": 4,
 "nbformat_minor": 4
}
