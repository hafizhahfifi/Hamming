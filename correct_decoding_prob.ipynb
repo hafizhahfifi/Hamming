{
 "cells": [
  {
   "cell_type": "code",
   "execution_count": 1,
   "metadata": {},
   "outputs": [],
   "source": [
    "n = 7 \n",
    "k = 4 \n",
    "m = n-k \n",
    "t = 1 \n",
    "\n",
    "codeword = [0, 0, 0, 0, 0, 0, 0]\n",
    "\n",
    "p_values = [0.01, 0.05, 0.07, 0.1, 0.2, 0.5]"
   ]
  },
  {
   "cell_type": "code",
   "execution_count": 2,
   "metadata": {},
   "outputs": [],
   "source": [
    "def calc_correct_prob(p):\n",
    "    num_correct = 0\n",
    "    num_iterations = 1000\n",
    "    \n",
    "    for i in range(num_iterations):\n",
    "        received_codeword = [bit if random() > p else 1-bit for bit in codeword]\n",
    "        \n",
    "        syndrome = [(received_codeword[0]+received_codeword[2]+received_codeword[4])%2,\n",
    "                    (received_codeword[1]+received_codeword[2]+received_codeword[5])%2,\n",
    "                    (received_codeword[3]+received_codeword[4]+received_codeword[5])%2]\n",
    "        \n",
    "        if sum(syndrome) > t:\n",
    "            pass\n",
    "        elif sum(syndrome) == 1:\n",
    "            error_bit = sum([2**i*syndrome[i] for i in range(m)])\n",
    "            received_codeword[error_bit-1] = 1 - received_codeword[error_bit-1]\n",
    "        \n",
    "        if received_codeword == codeword:\n",
    "            num_correct += 1\n",
    "    \n",
    "    return N(num_correct/num_iterations, digits = 3)\n",
    "\n",
    "correct_probs = [calc_correct_prob(p) for p in p_values]"
   ]
  },
  {
   "cell_type": "code",
   "execution_count": 3,
   "metadata": {},
   "outputs": [
    {
     "data": {
      "image/png": "[encoded data removed]",
      "text/plain": [
       "<Figure size 432x288 with 1 Axes>"
      ]
     },
     "metadata": {
      "needs_background": "light"
     },
     "output_type": "display_data"
    },
    {
     "data": {
      "text/plain": [
       "[0.962, 0.803, 0.735, 0.657, 0.358, 0.0370]"
      ]
     },
     "execution_count": 3,
     "metadata": {},
     "output_type": "execute_result"
    }
   ],
   "source": [
    "import matplotlib.pyplot as plt\n",
    "plt.plot(p_values, correct_probs, 'o-')\n",
    "plt.xlabel('Crossover probability')\n",
    "plt.ylabel('Correct decoding probability')\n",
    "plt.show()\n",
    "correct_probs"
   ]
  },
  {
   "cell_type": "code",
   "execution_count": null,
   "metadata": {},
   "outputs": [],
   "source": []
  }
 ],
 "metadata": {
  "kernelspec": {
   "display_name": "SageMath 9.3",
   "language": "sage",
   "name": "sagemath"
  },
  "language_info": {
   "codemirror_mode": {
    "name": "ipython",
    "version": 3
   },
   "file_extension": ".py",
   "mimetype": "text/x-python",
   "name": "python",
   "nbconvert_exporter": "python",
   "pygments_lexer": "ipython3",
   "version": "3.7.10"
  }
 },
 "nbformat": 4,
 "nbformat_minor": 4
}
