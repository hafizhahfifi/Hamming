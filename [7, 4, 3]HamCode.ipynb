{
 "cells": [
  {
   "cell_type": "code",
   "execution_count": 1,
   "metadata": {},
   "outputs": [],
   "source": [
    "letters = 'ABCDEFGHIJKLMNOP'\n",
    "dic1 = {}\n",
    "for x in range(len(letters)):\n",
    "    dic1[str(letters[x])] = f'{x:04b}'\n",
    "\n",
    "key_dic1 = list(dic1.keys())\n",
    "val_dic1 = list(dic1.values())\n",
    "    \n",
    "dic2 = {}\n",
    "for y in range(len(letters)):\n",
    "    dic2[str(val_dic1[y])] = key_dic1[y]"
   ]
  },
  {
   "cell_type": "code",
   "execution_count": 2,
   "metadata": {},
   "outputs": [
    {
     "data": {
      "text/plain": [
       "{'A': '0000',\n",
       " 'B': '0001',\n",
       " 'C': '0010',\n",
       " 'D': '0011',\n",
       " 'E': '0100',\n",
       " 'F': '0101',\n",
       " 'G': '0110',\n",
       " 'H': '0111',\n",
       " 'I': '1000',\n",
       " 'J': '1001',\n",
       " 'K': '1010',\n",
       " 'L': '1011',\n",
       " 'M': '1100',\n",
       " 'N': '1101',\n",
       " 'O': '1110',\n",
       " 'P': '1111'}"
      ]
     },
     "execution_count": 2,
     "metadata": {},
     "output_type": "execute_result"
    }
   ],
   "source": [
    "dic1"
   ]
  },
  {
   "cell_type": "code",
   "execution_count": 3,
   "metadata": {},
   "outputs": [
    {
     "data": {
      "text/plain": [
       "{'0000': 'A',\n",
       " '0001': 'B',\n",
       " '0010': 'C',\n",
       " '0011': 'D',\n",
       " '0100': 'E',\n",
       " '0101': 'F',\n",
       " '0110': 'G',\n",
       " '0111': 'H',\n",
       " '1000': 'I',\n",
       " '1001': 'J',\n",
       " '1010': 'K',\n",
       " '1011': 'L',\n",
       " '1100': 'M',\n",
       " '1101': 'N',\n",
       " '1110': 'O',\n",
       " '1111': 'P'}"
      ]
     },
     "execution_count": 3,
     "metadata": {},
     "output_type": "execute_result"
    }
   ],
   "source": [
    "dic2"
   ]
  },
  {
   "cell_type": "code",
   "execution_count": 4,
   "metadata": {},
   "outputs": [],
   "source": [
    "G = matrix(GF(2),[[1,0,0,0,1,0,1],\n",
    " [0,1,0,0,1,1,0],\n",
    " [0,0,1,0,1,1,1],\n",
    " [0,0,0,1,0,1,1]])\n",
    "H = matrix(GF(2),[[1,1,1,0,1,0,0],\n",
    " [0,1,1,1,0,1,0],\n",
    " [1,0,1,1,0,0,1]])\n",
    "C = codes.HammingCode(GF(2),3)"
   ]
  },
  {
   "cell_type": "code",
   "execution_count": 5,
   "metadata": {},
   "outputs": [
    {
     "data": {
      "text/plain": [
       "[7, 4] Hamming Code over GF(2)"
      ]
     },
     "execution_count": 5,
     "metadata": {},
     "output_type": "execute_result"
    }
   ],
   "source": [
    "C"
   ]
  },
  {
   "cell_type": "code",
   "execution_count": 6,
   "metadata": {},
   "outputs": [
    {
     "data": {
      "text/plain": [
       "7"
      ]
     },
     "execution_count": 6,
     "metadata": {},
     "output_type": "execute_result"
    }
   ],
   "source": [
    "C.length()"
   ]
  },
  {
   "cell_type": "code",
   "execution_count": 7,
   "metadata": {},
   "outputs": [
    {
     "data": {
      "text/plain": [
       "4"
      ]
     },
     "execution_count": 7,
     "metadata": {},
     "output_type": "execute_result"
    }
   ],
   "source": [
    "C.dimension()"
   ]
  },
  {
   "cell_type": "code",
   "execution_count": 8,
   "metadata": {},
   "outputs": [
    {
     "data": {
      "text/plain": [
       "3"
      ]
     },
     "execution_count": 8,
     "metadata": {},
     "output_type": "execute_result"
    }
   ],
   "source": [
    "C.minimum_distance()"
   ]
  },
  {
   "cell_type": "code",
   "execution_count": 9,
   "metadata": {},
   "outputs": [],
   "source": [
    "def lettobin(letter):\n",
    "    return dic1[letter]\n",
    "\n",
    "def bintovec(binary):\n",
    "    return vector(GF(2),[int(z) for z in binary])\n",
    "\n",
    "def vectobin(vector):\n",
    "    return ''.join(str(z) for z in vector)\n",
    "\n",
    "def bintolet(binary):\n",
    "    return dic2[binary]\n",
    "\n",
    "def textobin(t):\n",
    "    return ''.join(lettobin(y) for y in t)\n",
    "\n",
    "def entradec_str(letter):\n",
    "    result = ['','','','','']\n",
    "    for r in letter: \n",
    "        v = bintovec(lettobin(r))\n",
    "        ve = C.encode(v, encoder_name=\"Systematic\")\n",
    "        ver = vectobin(ve)\n",
    "        vt = channel.transmit(ve)\n",
    "        vtr = vectobin(vt)\n",
    "        vd = C.decode_to_code(vt, decoder_name=\"Syndrome\")\n",
    "        vdr = vectobin(vd)\n",
    "        vm = C.decode_to_message(vt, decoder_name=\"Syndrome\")\n",
    "        vmr = vectobin(vm)\n",
    "        m = bintolet(vmr)\n",
    "        result[0] += ver\n",
    "        result[1] += vtr\n",
    "        result[2] += vdr\n",
    "        result[3] += vmr\n",
    "        result[4] += m\n",
    "    return result"
   ]
  },
  {
   "cell_type": "code",
   "execution_count": 10,
   "metadata": {},
   "outputs": [
    {
     "name": "stdout",
     "output_type": "stream",
     "text": [
      "GOLDEN\n",
      "GOLDEN\n",
      "OGPAHD\n",
      "NHFIDP\n",
      "ELDKPI\n",
      "AJNJDL\n",
      "JBEMLC\n",
      "JBEMLC\n"
     ]
    }
   ],
   "source": [
    "text = \"GOLDEN\"\n",
    "for x in [0,1,2,3,4,5,6,7]:\n",
    "    channel = channels.StaticErrorRateChannel(C.ambient_space(),x)\n",
    "    print(entradec_str(text)[4])"
   ]
  },
  {
   "cell_type": "code",
   "execution_count": null,
   "metadata": {},
   "outputs": [],
   "source": []
  }
 ],
 "metadata": {
  "kernelspec": {
   "display_name": "SageMath 9.3",
   "language": "sage",
   "name": "sagemath"
  },
  "language_info": {
   "codemirror_mode": {
    "name": "ipython",
    "version": 3
   },
   "file_extension": ".py",
   "mimetype": "text/x-python",
   "name": "python",
   "nbconvert_exporter": "python",
   "pygments_lexer": "ipython3",
   "version": "3.7.10"
  }
 },
 "nbformat": 4,
 "nbformat_minor": 4
}
