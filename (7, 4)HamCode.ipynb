{
 "cells": [
  {
   "cell_type": "code",
   "execution_count": 1,
   "metadata": {},
   "outputs": [],
   "source": [
    "strings = 'ABCDEFGHIJKLMNOP'\n",
    "dict1 = {}\n",
    "for i in range(len(strings)):\n",
    "    dict1[str(strings[i])] = f'{i:04b}'\n",
    "\n",
    "key_dict1 = list(dict1.keys())\n",
    "val_dict1 = list(dict1.values())\n",
    "    \n",
    "dict2 = {}\n",
    "for j in range(len(strings)):\n",
    "    dict2[str(val_dict1[j])] = key_dict1[j]"
   ]
  },
  {
   "cell_type": "code",
   "execution_count": 2,
   "metadata": {},
   "outputs": [
    {
     "data": {
      "text/plain": [
       "{'A': '0000',\n",
       " 'B': '0001',\n",
       " 'C': '0010',\n",
       " 'D': '0011',\n",
       " 'E': '0100',\n",
       " 'F': '0101',\n",
       " 'G': '0110',\n",
       " 'H': '0111',\n",
       " 'I': '1000',\n",
       " 'J': '1001',\n",
       " 'K': '1010',\n",
       " 'L': '1011',\n",
       " 'M': '1100',\n",
       " 'N': '1101',\n",
       " 'O': '1110',\n",
       " 'P': '1111'}"
      ]
     },
     "execution_count": 2,
     "metadata": {},
     "output_type": "execute_result"
    }
   ],
   "source": [
    "dict1"
   ]
  },
  {
   "cell_type": "code",
   "execution_count": 3,
   "metadata": {},
   "outputs": [
    {
     "data": {
      "text/plain": [
       "['A',\n",
       " 'B',\n",
       " 'C',\n",
       " 'D',\n",
       " 'E',\n",
       " 'F',\n",
       " 'G',\n",
       " 'H',\n",
       " 'I',\n",
       " 'J',\n",
       " 'K',\n",
       " 'L',\n",
       " 'M',\n",
       " 'N',\n",
       " 'O',\n",
       " 'P']"
      ]
     },
     "execution_count": 3,
     "metadata": {},
     "output_type": "execute_result"
    }
   ],
   "source": [
    "key_dict1"
   ]
  },
  {
   "cell_type": "code",
   "execution_count": 4,
   "metadata": {},
   "outputs": [
    {
     "data": {
      "text/plain": [
       "['0000',\n",
       " '0001',\n",
       " '0010',\n",
       " '0011',\n",
       " '0100',\n",
       " '0101',\n",
       " '0110',\n",
       " '0111',\n",
       " '1000',\n",
       " '1001',\n",
       " '1010',\n",
       " '1011',\n",
       " '1100',\n",
       " '1101',\n",
       " '1110',\n",
       " '1111']"
      ]
     },
     "execution_count": 4,
     "metadata": {},
     "output_type": "execute_result"
    }
   ],
   "source": [
    "val_dict1"
   ]
  },
  {
   "cell_type": "code",
   "execution_count": 6,
   "metadata": {},
   "outputs": [
    {
     "data": {
      "text/plain": [
       "{'0000': 'A',\n",
       " '0001': 'B',\n",
       " '0010': 'C',\n",
       " '0011': 'D',\n",
       " '0100': 'E',\n",
       " '0101': 'F',\n",
       " '0110': 'G',\n",
       " '0111': 'H',\n",
       " '1000': 'I',\n",
       " '1001': 'J',\n",
       " '1010': 'K',\n",
       " '1011': 'L',\n",
       " '1100': 'M',\n",
       " '1101': 'N',\n",
       " '1110': 'O',\n",
       " '1111': 'P'}"
      ]
     },
     "execution_count": 6,
     "metadata": {},
     "output_type": "execute_result"
    }
   ],
   "source": [
    "dict2"
   ]
  },
  {
   "cell_type": "code",
   "execution_count": 7,
   "metadata": {},
   "outputs": [
    {
     "data": {
      "text/plain": [
       "[7, 4] Hamming Code over GF(2)"
      ]
     },
     "execution_count": 7,
     "metadata": {},
     "output_type": "execute_result"
    }
   ],
   "source": [
    "G = matrix(GF(2),[[1,0,0,0,1,0,1],\n",
    " [0,1,0,0,1,1,0],\n",
    " [0,0,1,0,1,1,1],\n",
    " [0,0,0,1,0,1,1]])\n",
    "H = matrix(GF(2),[[1,1,1,0,1,0,0],\n",
    " [0,1,1,1,0,1,0],\n",
    " [1,0,1,1,0,0,1]])\n",
    "C = codes.HammingCode(GF(2),3)\n",
    "C"
   ]
  },
  {
   "cell_type": "code",
   "execution_count": 8,
   "metadata": {},
   "outputs": [
    {
     "data": {
      "text/plain": [
       "[7, 4] Hamming Code over GF(2)"
      ]
     },
     "execution_count": 8,
     "metadata": {},
     "output_type": "execute_result"
    }
   ],
   "source": [
    "C"
   ]
  },
  {
   "cell_type": "code",
   "execution_count": 10,
   "metadata": {},
   "outputs": [
    {
     "data": {
      "text/plain": [
       "Finite Field of size 2"
      ]
     },
     "execution_count": 10,
     "metadata": {},
     "output_type": "execute_result"
    }
   ],
   "source": [
    "C.base_ring()"
   ]
  },
  {
   "cell_type": "code",
   "execution_count": 11,
   "metadata": {},
   "outputs": [
    {
     "data": {
      "text/plain": [
       "7"
      ]
     },
     "execution_count": 11,
     "metadata": {},
     "output_type": "execute_result"
    }
   ],
   "source": [
    "C.length()"
   ]
  },
  {
   "cell_type": "code",
   "execution_count": 12,
   "metadata": {},
   "outputs": [
    {
     "data": {
      "text/plain": [
       "4"
      ]
     },
     "execution_count": 12,
     "metadata": {},
     "output_type": "execute_result"
    }
   ],
   "source": [
    "C.dimension()"
   ]
  },
  {
   "cell_type": "code",
   "execution_count": 13,
   "metadata": {},
   "outputs": [
    {
     "data": {
      "text/plain": [
       "3"
      ]
     },
     "execution_count": 13,
     "metadata": {},
     "output_type": "execute_result"
    }
   ],
   "source": [
    "C.minimum_distance()"
   ]
  },
  {
   "cell_type": "code",
   "execution_count": 14,
   "metadata": {},
   "outputs": [],
   "source": [
    "def str2bin(string):\n",
    "    return dict1[string]\n",
    "\n",
    "def bin2vec(biner):\n",
    "    return vector(GF(2),[int(k) for k in biner])\n",
    "\n",
    "def vec2bin(vector):\n",
    "    return ''.join(str(k) for k in vector)\n",
    "\n",
    "def bin2str(biner):\n",
    "    return dict2[biner]\n",
    "\n",
    "def text2bin(t):\n",
    "    return ''.join(str2bin(j) for j in t)\n",
    "\n",
    "def entradec_str(string):\n",
    "    result = ['','','','','']\n",
    "    for s in string: \n",
    "        v = bin2vec(str2bin(s))\n",
    "        ve = C.encode(v, encoder_name=\"Systematic\")\n",
    "        ves = vec2bin(ve)\n",
    "        vt = channel.transmit(ve)\n",
    "        vts = vec2bin(vt)\n",
    "        vd = C.decode_to_code(vt, decoder_name=\"Syndrome\")\n",
    "        vds = vec2bin(vd)\n",
    "        vm = C.decode_to_message(vt, decoder_name=\"Syndrome\")\n",
    "        vms = vec2bin(vm)\n",
    "        m = bin2str(vms)\n",
    "        result[0] += ves\n",
    "        result[1] += vts\n",
    "        result[2] += vds\n",
    "        result[3] += vms\n",
    "        result[4] += m\n",
    "       # result[5] += bin2str(vts)\n",
    "    return result"
   ]
  },
  {
   "cell_type": "code",
   "execution_count": 33,
   "metadata": {},
   "outputs": [
    {
     "name": "stdout",
     "output_type": "stream",
     "text": [
      "GOLDEN\n",
      "GOLDEN\n",
      "ELFANE\n",
      "FFKCDA\n",
      "DGONMO\n",
      "KDNJPL\n",
      "JBEMLC\n",
      "JBEMLC\n"
     ]
    }
   ],
   "source": [
    "text = \"GOLDEN\"\n",
    "for i in [0,1,2,3,4,5,6,7]:\n",
    "    channel = channels.StaticErrorRateChannel(C.ambient_space(),i)\n",
    "    #print(entradec_str(text)[5])\n",
    "    print(entradec_str(text)[4])"
   ]
  },
  {
   "cell_type": "code",
   "execution_count": null,
   "metadata": {},
   "outputs": [],
   "source": []
  }
 ],
 "metadata": {
  "kernelspec": {
   "display_name": "SageMath 9.3",
   "language": "sage",
   "name": "sagemath"
  },
  "language_info": {
   "codemirror_mode": {
    "name": "ipython",
    "version": 3
   },
   "file_extension": ".py",
   "mimetype": "text/x-python",
   "name": "python",
   "nbconvert_exporter": "python",
   "pygments_lexer": "ipython3",
   "version": "3.7.10"
  }
 },
 "nbformat": 4,
 "nbformat_minor": 4
}
